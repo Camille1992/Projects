{
 "cells": [
  {
   "cell_type": "code",
   "execution_count": null,
   "id": "54853e9d",
   "metadata": {},
   "outputs": [],
   "source": [
    "import pandas as pd\n",
    "import numpy as np\n",
    "import matplotlib.pyplot as plt\n",
    "import seaborn as sns\n",
    "import scipy.stats as stats\n",
    "import os #we will use the function listdir to list files in a folder\n",
    "import math #to apply absolute value\n",
    "\n",
    "from sklearn.model_selection import train_test_split\n",
    "from sklearn.linear_model import LinearRegression\n",
    "from sklearn.metrics import r2_score, mean_squared_error, mean_absolute_error\n",
    "\n",
    "import warnings\n",
    "warnings.filterwarnings('ignore')"
   ]
  },
  {
   "cell_type": "code",
   "execution_count": null,
   "id": "9a0802de",
   "metadata": {},
   "outputs": [],
   "source": [
    "# Day 1 - Mission statement:\n",
    "\n",
    "# Exploring the data\n",
    "# Data cleaning\n",
    "    # checking for null values\n",
    "    # uniformizing column names and figuring out what the column names even meeeaaaaaaaaaaan\n",
    "# checking the multicollinearity\n",
    "# \n",
    "#\n",
    "#"
   ]
  },
  {
   "cell_type": "code",
   "execution_count": null,
   "id": "d80fe21f",
   "metadata": {},
   "outputs": [],
   "source": [
    "path = ('C:/Users/camil/Documents/Courses/Ironhack/Module 1/Week 6/data_mid_bootcamp_project_FIFA_MoneyBall/')\n",
    "file = os.listdir(path)\n",
    "file"
   ]
  },
  {
   "cell_type": "code",
   "execution_count": null,
   "id": "e257416a",
   "metadata": {},
   "outputs": [],
   "source": [
    "data = pd.DataFrame()\n",
    "for file in file:\n",
    "    if file.endswith('2.csv'):\n",
    "        data = pd.read_csv(path + file)       \n",
    "data.head()"
   ]
  },
  {
   "cell_type": "code",
   "execution_count": null,
   "id": "d84505c9",
   "metadata": {},
   "outputs": [],
   "source": [
    "pd.set_option('display.max_columns', None)"
   ]
  },
  {
   "cell_type": "code",
   "execution_count": null,
   "id": "aec3b8d5",
   "metadata": {},
   "outputs": [],
   "source": [
    "data.shape"
   ]
  },
  {
   "cell_type": "code",
   "execution_count": null,
   "id": "9f8b82d3",
   "metadata": {},
   "outputs": [],
   "source": [
    "data.info()"
   ]
  },
  {
   "cell_type": "code",
   "execution_count": null,
   "id": "cc825684",
   "metadata": {},
   "outputs": [],
   "source": [
    "data.describe()"
   ]
  },
  {
   "cell_type": "code",
   "execution_count": null,
   "id": "06db4907",
   "metadata": {},
   "outputs": [],
   "source": [
    "data.columns = [column.lower().replace(\" \", \"_\").replace(\"&\",\"and\") for column in data.columns] \n",
    "data.head()"
   ]
  },
  {
   "cell_type": "code",
   "execution_count": null,
   "id": "6a66ee69",
   "metadata": {},
   "outputs": [],
   "source": [
    "for col_name in data.columns: \n",
    "    print(col_name)"
   ]
  },
  {
   "cell_type": "code",
   "execution_count": null,
   "id": "b7f4a89d",
   "metadata": {},
   "outputs": [],
   "source": [
    "for col in data.columns:\n",
    "    if data[col].isna().sum() > 0:\n",
    "        print(col, \": \", data[col].isna().sum(), \"NaN\")"
   ]
  },
  {
   "cell_type": "code",
   "execution_count": null,
   "id": "377c03b2",
   "metadata": {},
   "outputs": [],
   "source": [
    "data[data.columns[data.isna().any()]]"
   ]
  },
  {
   "cell_type": "code",
   "execution_count": null,
   "id": "c264cd17",
   "metadata": {},
   "outputs": [],
   "source": [
    "round((data[\"loan_date_end\"].isna().sum())/(len(data[\"loan_date_end\"]))*100,0) # we can drop that column"
   ]
  },
  {
   "cell_type": "code",
   "execution_count": null,
   "id": "df62b827",
   "metadata": {},
   "outputs": [],
   "source": [
    "# Are there other columns that can be dropped?\n",
    "# # player_photo, club_logo, flag_photo, they are photo we don't need \n",
    "# # gender: should only be one unique value:\n",
    "data['gender'].unique()"
   ]
  },
  {
   "cell_type": "code",
   "execution_count": null,
   "id": "204143a3",
   "metadata": {},
   "outputs": [],
   "source": [
    "data = data.drop([\"loan_date_end\", \"player_photo\", \"club_logo\", \"flag_photo\", \"gender\"], axis=1)"
   ]
  },
  {
   "cell_type": "code",
   "execution_count": null,
   "id": "1b7a4d16",
   "metadata": {},
   "outputs": [],
   "source": [
    "data.shape"
   ]
  },
  {
   "cell_type": "code",
   "execution_count": null,
   "id": "602bbf98",
   "metadata": {},
   "outputs": [],
   "source": [
    "# Setting ID as the index but first checking that there are only unique values there\n",
    "print(data.id.nunique())\n",
    "print(len(data.id))"
   ]
  },
  {
   "cell_type": "code",
   "execution_count": null,
   "id": "75da87c7",
   "metadata": {},
   "outputs": [],
   "source": [
    "data = data.set_index('id')\n",
    "data.head()"
   ]
  },
  {
   "cell_type": "code",
   "execution_count": null,
   "id": "403fc1e1",
   "metadata": {},
   "outputs": [],
   "source": [
    "# We want to rename the positions to make it more readable for us, as football laypersons\n",
    "# So we get a csv file that we created and will turn into a dictionary\n",
    "positions = pd.read_csv('C:/Users/camil/Documents/Courses/Ironhack/Module 1/Week 6/data_mid_bootcamp_project_FIFA_MoneyBall/positions.csv', header=None, index_col=0)\n",
    "positions"
   ]
  },
  {
   "cell_type": "code",
   "execution_count": null,
   "id": "61f09319",
   "metadata": {},
   "outputs": [],
   "source": [
    "positions = positions.squeeze().to_dict()"
   ]
  },
  {
   "cell_type": "code",
   "execution_count": null,
   "id": "64311cf7",
   "metadata": {},
   "outputs": [],
   "source": [
    "positions"
   ]
  },
  {
   "cell_type": "code",
   "execution_count": null,
   "id": "d4b7c5bc",
   "metadata": {},
   "outputs": [],
   "source": [
    "for column in data:\n",
    "    if column in positions:\n",
    "        data.rename(columns=positions, inplace=True)\n",
    "data.head()"
   ]
  },
  {
   "cell_type": "code",
   "execution_count": null,
   "id": "40a74fbe",
   "metadata": {},
   "outputs": [],
   "source": [
    "# Cleaning the numerical data"
   ]
  },
  {
   "cell_type": "code",
   "execution_count": null,
   "id": "d06cc009",
   "metadata": {},
   "outputs": [],
   "source": [
    "# cleaning height\n",
    "data['height']"
   ]
  },
  {
   "cell_type": "code",
   "execution_count": null,
   "id": "f0ea8af2",
   "metadata": {},
   "outputs": [],
   "source": [
    "# CLEANING THE HEIGHT\n",
    "def convert_height(i):\n",
    "    to_cm = 2.54\n",
    "    x = i.replace(\"'\",\" \")\n",
    "    x2 = x.replace('\"','') \n",
    "    #have to do it in two part because different quote used for inch and foot which causes problem with the string\n",
    "    y = x2.split()\n",
    "    height = round(((float(y[0])*12)+float(y[1]))*to_cm,0)\n",
    "    return height"
   ]
  },
  {
   "cell_type": "code",
   "execution_count": null,
   "id": "3310ddbc",
   "metadata": {},
   "outputs": [],
   "source": [
    "data['height'] = data['height'].apply(convert_height)\n",
    "data['height']"
   ]
  },
  {
   "cell_type": "code",
   "execution_count": null,
   "id": "c2d10f58",
   "metadata": {},
   "outputs": [],
   "source": [
    "# CLEANING THE WEIGHT\n",
    "def clean_weight(i):\n",
    "    x = float(i.replace('lbs',''))\n",
    "    return x"
   ]
  },
  {
   "cell_type": "code",
   "execution_count": null,
   "id": "46bcbfbc",
   "metadata": {},
   "outputs": [],
   "source": [
    "data[\"weight\"] = data[\"weight\"].apply(clean_weight)\n",
    "data[\"weight\"]"
   ]
  },
  {
   "cell_type": "code",
   "execution_count": null,
   "id": "4499cddf",
   "metadata": {},
   "outputs": [],
   "source": [
    "# CLEANING VALUE\n",
    "def clean_value(i):\n",
    "    x = float(i.replace(\".\",\"\").replace(\"€\",\"\").replace(\"K\",\"000\").replace(\"M\",\"00000\"))\n",
    "    return x"
   ]
  },
  {
   "cell_type": "code",
   "execution_count": null,
   "id": "3795c096",
   "metadata": {},
   "outputs": [],
   "source": [
    "data['value'] = data['value'].apply(clean_value)\n",
    "data['value']"
   ]
  },
  {
   "cell_type": "code",
   "execution_count": null,
   "id": "216cad34",
   "metadata": {
    "scrolled": true
   },
   "outputs": [],
   "source": [
    "# CLEANING WAGE AND RELEASE CLAUSE\n",
    "data['wage'] = data['wage'].apply(clean_value)\n",
    "data['wage']"
   ]
  },
  {
   "cell_type": "code",
   "execution_count": null,
   "id": "766adc2e",
   "metadata": {},
   "outputs": [],
   "source": [
    "data['release_clause'] = data['release_clause'].apply(clean_value)\n",
    "data['release_clause']"
   ]
  },
  {
   "cell_type": "code",
   "execution_count": null,
   "id": "d155055c",
   "metadata": {},
   "outputs": [],
   "source": [
    "# CLEANING THE POSITIONS\n",
    "def cleaning_positions(i):\n",
    "    x = float(i.replace(\"+\",\".\").replace(\"-\",\"\"))\n",
    "    return x"
   ]
  },
  {
   "cell_type": "code",
   "execution_count": null,
   "id": "e4e41e77",
   "metadata": {},
   "outputs": [],
   "source": [
    "for col in data.loc[:, 'left_striker':'goalkeeper']:\n",
    "    data[col] = data[col].apply(cleaning_positions)\n",
    "data.head()"
   ]
  },
  {
   "cell_type": "code",
   "execution_count": null,
   "id": "279fe57a",
   "metadata": {},
   "outputs": [],
   "source": [
    "# Checking that there are no numerical data still classified as object\n",
    "for col in data.columns:\n",
    "    print(col, \":\", data[col].dtypes)\n",
    "# hits is still an object, to be changed into numerical"
   ]
  },
  {
   "cell_type": "code",
   "execution_count": null,
   "id": "e0c4f30d",
   "metadata": {},
   "outputs": [],
   "source": [
    "data['hits'] = pd.to_numeric(data['hits'], errors='coerce')\n",
    "data['hits']"
   ]
  },
  {
   "cell_type": "code",
   "execution_count": null,
   "id": "fbc81660",
   "metadata": {},
   "outputs": [],
   "source": [
    "# CLEANING CATEGORICAL DATA\n",
    "# starred data cleaning (you can also have one for loop if I think about it now, this is just how I went thinking about it)\n",
    "star_columns = ['weak_foot', 'skill_moves', 'international_reputation']\n",
    "\n",
    "# Check unique values\n",
    "# Select only the first character from the string\n",
    "# Convert data type from object to integer\n",
    "# Check that the transformation was successful\n",
    "for column in star_columns:\n",
    "    print(data[column].unique())\n",
    "    data[column] = data[column].str[0]\n",
    "    data[column] = pd.to_numeric(data[column], errors='raise')\n",
    "    print(data[column].dtypes)"
   ]
  },
  {
   "cell_type": "code",
   "execution_count": null,
   "id": "767533e4",
   "metadata": {},
   "outputs": [],
   "source": [
    "data['nationality'].unique()\n",
    "# remove &amp;\n",
    "# change China PR to China\n",
    "# DR Congo to Democratic Republic of the Congo\n",
    "# DPR Korea to North Korea"
   ]
  },
  {
   "cell_type": "code",
   "execution_count": null,
   "id": "4422e582",
   "metadata": {},
   "outputs": [],
   "source": [
    "data[\"nationality\"] = data[\"nationality\"].apply(lambda x: \"Democratic Republic of the Congo\" if str(x).startswith(\"DR\")\n",
    "                                                 else \"North Korea\" if str(x).endswith(\"DPR\")\n",
    "                                                 else \"China\" if str(x).endswith(\"PR\")\n",
    "                                                 else str(x).replace(\"&amp;\",\"and\") if \"&amp;\" in x\n",
    "                                                 else x)\n",
    "data['nationality'].unique()"
   ]
  },
  {
   "cell_type": "code",
   "execution_count": null,
   "id": "250486bf",
   "metadata": {},
   "outputs": [],
   "source": [
    "# Explore the contract data\n",
    "data['contract'].unique()\n",
    "\n",
    "# As the end of the contract is typically represented by the last 4 characters of the \n",
    "# strings, we will extract those where possible:\n",
    "def clean_contract(x):\n",
    "    try:\n",
    "        x = int(x[-4:])\n",
    "    except:\n",
    "        pass\n",
    "    return x\n",
    "\n",
    "data['contract'] = data['contract'].apply(clean_contract)\n",
    "\n",
    "# Check what non-integer values remained in the column:\n",
    "data['contract'].unique()"
   ]
  },
  {
   "cell_type": "code",
   "execution_count": null,
   "id": "bbbabc26",
   "metadata": {},
   "outputs": [],
   "source": [
    "def record_loans(x):\n",
    "    if type(x) == str and 'On Loan' in x:\n",
    "        record = 'Yes'\n",
    "    else:\n",
    "        record = 'No'\n",
    "    return record    \n",
    "\n",
    "data['on_loan'] = data['contract'].apply(record_loans)\n",
    "\n",
    "# Check the operation was successful\n",
    "data['on_loan'].unique()"
   ]
  },
  {
   "cell_type": "code",
   "execution_count": null,
   "id": "5a9553a8",
   "metadata": {},
   "outputs": [],
   "source": [
    "# We'll now remove the 'On Loan' string from the contract column to extract the year:\n",
    "def clean_loans(x):\n",
    "    try:\n",
    "        x = int(x.replace(\" On Loan\", \"\")[-4:])\n",
    "    except:\n",
    "        pass\n",
    "    return x    \n",
    "\n",
    "data['contract'] = data['contract'].apply(clean_loans)\n",
    "\n",
    "# Check the operation was successful\n",
    "data['contract'].unique()"
   ]
  },
  {
   "cell_type": "code",
   "execution_count": null,
   "id": "3bf8451f",
   "metadata": {},
   "outputs": [],
   "source": [
    "odd_ones_out = []\n",
    "\n",
    "for value in data['contract']:\n",
    "    if type(value) == str and 'Free' in value:\n",
    "        odd_ones_out.append(value)\n",
    "    elif value == 1648:\n",
    "        odd_ones_out.append(value)\n",
    "\n",
    "len(odd_ones_out)"
   ]
  },
  {
   "cell_type": "code",
   "execution_count": null,
   "id": "feb345af",
   "metadata": {},
   "outputs": [],
   "source": [
    "def clean_odds(x):\n",
    "    if x in odd_ones_out:\n",
    "        x = np.nan\n",
    "    return x    \n",
    "\n",
    "data['contract'] = data['contract'].apply(clean_odds)\n",
    "\n",
    "# Check the operation was successful\n",
    "data['contract'].unique()"
   ]
  },
  {
   "cell_type": "code",
   "execution_count": null,
   "id": "4a4a1af7",
   "metadata": {},
   "outputs": [],
   "source": [
    "for col in data.columns:\n",
    "    if data[col].isna().sum() != 0:\n",
    "        print(col, \":\", data[col].isna().sum())"
   ]
  },
  {
   "cell_type": "code",
   "execution_count": null,
   "id": "8513e23f",
   "metadata": {},
   "outputs": [],
   "source": [
    "for col in data.columns:\n",
    "    if data[col].isna().sum() != 0:\n",
    "        print(col, \":\", round(((data[col].isna().sum())/len(data[col]))*100,0),\"%\")"
   ]
  },
  {
   "cell_type": "code",
   "execution_count": null,
   "id": "2d55b479",
   "metadata": {},
   "outputs": [],
   "source": [
    "# Max left is 2% so we can safely drop the remaining NaN values:\n",
    "data = data.dropna()"
   ]
  },
  {
   "cell_type": "code",
   "execution_count": null,
   "id": "6a9d7c4d",
   "metadata": {},
   "outputs": [],
   "source": [
    "for col in data.columns:\n",
    "    if data[col].isna().sum() != 0:\n",
    "        print(col, \":\", data[col].isna().sum())\n",
    "    else:\n",
    "        print(\"No NaN left in this dataframe\")\n",
    "        break"
   ]
  },
  {
   "cell_type": "code",
   "execution_count": null,
   "id": "65791192",
   "metadata": {},
   "outputs": [],
   "source": []
  },
  {
   "cell_type": "code",
   "execution_count": null,
   "id": "f85447df",
   "metadata": {},
   "outputs": [],
   "source": [
    "# EDA"
   ]
  },
  {
   "cell_type": "code",
   "execution_count": null,
   "id": "16bb9f9d",
   "metadata": {
    "scrolled": true
   },
   "outputs": [],
   "source": [
    "# sort the best players\n",
    "best_players = data.sort_values([\"overall_score\"], ascending=[False])\n",
    "rank = best_players[[\"name\", \"overall_score\"]]\n",
    "rank.head(10)"
   ]
  },
  {
   "cell_type": "code",
   "execution_count": null,
   "id": "1d0799be",
   "metadata": {},
   "outputs": [],
   "source": [
    "# sort the best potential players - tis the same\n",
    "best_pot = data.sort_values([\"potential_score\"], ascending=[False])\n",
    "rank_2 = best_players[[\"name\", \"potential_score\"]]\n",
    "rank_2.head(10)"
   ]
  },
  {
   "cell_type": "code",
   "execution_count": null,
   "id": "7629fdde",
   "metadata": {},
   "outputs": [],
   "source": [
    "# Would there be a bigger difference between the overall score and potential score if we were to compare the bottom of the list?\n",
    "worst_players = data.sort_values([\"overall_score\"], ascending=[False])\n",
    "rank = worst_players[[\"name\", \"overall_score\"]]\n",
    "rank.tail(10)"
   ]
  },
  {
   "cell_type": "code",
   "execution_count": null,
   "id": "5c0321ba",
   "metadata": {},
   "outputs": [],
   "source": [
    "worst_pot = data.sort_values([\"potential_score\"], ascending=[False])\n",
    "rank_2 = worst_players[[\"name\", \"potential_score\"]]\n",
    "rank_2.tail(10)\n",
    "# no difference"
   ]
  },
  {
   "cell_type": "code",
   "execution_count": null,
   "id": "745f3da6",
   "metadata": {},
   "outputs": [],
   "source": [
    "best_hits = data.sort_values([\"overall_score\", \"hits\"], ascending=[False, False])\n",
    "rank_3 = best_players[[\"name\", \"overall_score\", \"hits\"]]\n",
    "rank_3.head(3)"
   ]
  },
  {
   "cell_type": "code",
   "execution_count": null,
   "id": "fb28a2e9",
   "metadata": {},
   "outputs": [],
   "source": [
    "# We split the numerical data\n",
    "num = data.select_dtypes(np.number)\n",
    "num.head()"
   ]
  },
  {
   "cell_type": "code",
   "execution_count": null,
   "id": "6df6a2b7",
   "metadata": {},
   "outputs": [],
   "source": [
    "# we want to see the distributions\n",
    "for column in num.columns:\n",
    "    sns.distplot(data[column])\n",
    "    plt.show()\n",
    "# quite a few are actually Gaussian in shape but we'll normalize anyways and remove outliers"
   ]
  },
  {
   "cell_type": "code",
   "execution_count": null,
   "id": "59b7bc35",
   "metadata": {},
   "outputs": [],
   "source": [
    "# Box-plot to better see the outliers\n",
    "for column in num.columns:\n",
    "    sns.boxplot(data[column])\n",
    "    plt.show()"
   ]
  },
  {
   "cell_type": "code",
   "execution_count": null,
   "id": "302e0e4e",
   "metadata": {},
   "outputs": [],
   "source": [
    "# Checking the correlations\n",
    "data.corr()"
   ]
  },
  {
   "cell_type": "code",
   "execution_count": null,
   "id": "7fd5f272",
   "metadata": {},
   "outputs": [],
   "source": [
    "#HEATMAP\n",
    "mask = np.zeros_like(data.corr())\n",
    "mask[np.triu_indices_from(mask)] = True # optional, to hide repeat half of the matrix\n",
    "fig, ax = plt.subplots(figsize=(80, 76))\n",
    "ax = sns.heatmap(data.corr(), mask=mask, annot=True)\n",
    "plt.show()\n",
    "\n",
    "# first observations:\n",
    "# value, wage and release clause highly correlated to each other (around 0.6)\n",
    "# postions very highly correlated (>0.95) to stats that fit positions, ie. attacking positions corrlated to attacking stats\n",
    "  # => for the future rounds: \n",
    "    # positions and stats are highly correlated data:\n",
    "    # repetition of exogenous variables can twist the model, will probably be dropped"
   ]
  },
  {
   "cell_type": "code",
   "execution_count": null,
   "id": "dba5141e",
   "metadata": {},
   "outputs": [],
   "source": [
    "data.head()"
   ]
  },
  {
   "cell_type": "code",
   "execution_count": null,
   "id": "ce642a5d",
   "metadata": {},
   "outputs": [],
   "source": []
  }
 ],
 "metadata": {
  "kernelspec": {
   "display_name": "Python 3 (ipykernel)",
   "language": "python",
   "name": "python3"
  },
  "language_info": {
   "codemirror_mode": {
    "name": "ipython",
    "version": 3
   },
   "file_extension": ".py",
   "mimetype": "text/x-python",
   "name": "python",
   "nbconvert_exporter": "python",
   "pygments_lexer": "ipython3",
   "version": "3.9.7"
  }
 },
 "nbformat": 4,
 "nbformat_minor": 5
}
